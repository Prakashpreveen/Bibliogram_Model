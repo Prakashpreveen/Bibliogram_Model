{
 "cells": [
  {
   "cell_type": "code",
   "execution_count": 1,
   "id": "9005d367-f3a9-4494-aab4-acd94d6595d4",
   "metadata": {},
   "outputs": [],
   "source": [
    "# importing required libraries\n",
    "import requests\n",
    "import os\n",
    "from bs4 import BeautifulSoup\n",
    "import pandas as pd"
   ]
  },
  {
   "cell_type": "code",
   "execution_count": 2,
   "id": "29cb5117-1b51-46a3-8bc4-a9fa7c6bccdc",
   "metadata": {},
   "outputs": [
    {
     "name": "stdout",
     "output_type": "stream",
     "text": [
      "200\n"
     ]
    }
   ],
   "source": [
    "# Get the content from the url using a get request \n",
    "scifi_url = \"https://www.goodreads.com/list/show/196307.Best_Books_of_2024\"\n",
    "headers = {'User-Agent': 'Mozilla/5.0 (Windows NT 10.0; Win64; x64) AppleWebKit/537.36 (KHTML, like Gecko) Chrome/99.0.9999.99 Safari/537.36'}\n",
    "response = requests.get(scifi_url, headers=headers)\n",
    "print(response.status_code)"
   ]
  },
  {
   "cell_type": "code",
   "execution_count": 3,
   "id": "bf8e49b2-2aac-41ef-a37f-5a76c1888907",
   "metadata": {},
   "outputs": [],
   "source": [
    "# Parsing the html using beautiful soup\n",
    "doc = BeautifulSoup(response.text, 'html.parser')"
   ]
  },
  {
   "cell_type": "code",
   "execution_count": 4,
   "id": "d9c8438d-dffe-451b-bd98-12d171a2fdfb",
   "metadata": {},
   "outputs": [
    {
     "name": "stdout",
     "output_type": "stream",
     "text": [
      "\n",
      "The Women\n",
      "\n"
     ]
    }
   ],
   "source": [
    "book_tags = doc.find_all('a', class_=\"bookTitle\")\n",
    "print(book_tags[0].text)"
   ]
  },
  {
   "cell_type": "markdown",
   "id": "024b68e3-44e2-4a92-9b70-907b6b7e5d35",
   "metadata": {},
   "source": [
    "## BOOK TITLES:"
   ]
  },
  {
   "cell_type": "code",
   "execution_count": 5,
   "id": "ea02cb64-3f7a-400d-9666-d649426ecf78",
   "metadata": {},
   "outputs": [
    {
     "name": "stdout",
     "output_type": "stream",
     "text": [
      "['\\nThe Women\\n', '\\nBride\\n', '\\nHouse of Flame and Shadow (Crescent City, #3)\\n', '\\nEmily Wilde’s Map of the Otherlands (Emily Wilde, #2)\\n', '\\nFirst Lie Wins\\n', '\\nWhat Feasts at Night (Sworn Soldier, #2)\\n', '\\nThe Fury\\n', '\\nA Fate Inked in Blood (Saga of the Unfated, #1)\\n', '\\nThe Fox Wife\\n', '\\nThe Prisoner’s Throne (The Stolen Heir Duology, #2)\\n', '\\nMislaid in Parts Half-Known (Wayward Children, #9)\\n', '\\nJust for the Summer\\n', '\\nThe Familiar\\n', \"\\nI Hope This Doesn't Find You\\n\", '\\nFence, Vol. 6: Redemption\\n', '\\nFunny Story\\n', '\\nMartyr!\\n', '\\nAfter Annie\\n', '\\nThe Crimson Moth (The Crimson Moth, #1)\\n', '\\nThe Heiress\\n', '\\nFinlay Donovan Rolls the Dice (Finlay Donovan, #4)\\n', '\\nThe Phoenix Crown\\n', '\\nThe Teacher\\n', '\\nTo Woo and to Wed (The Regency Vows, #5)\\n', '\\nOne Perfect Couple\\n', '\\nSomething is Killing the Children, Vol. 7\\n', '\\nRandom in Death (In Death, #58)\\n', '\\nThe Exception to the Rule (The Improbable Meet-Cute, #1)\\n', '\\nFangirl Down (Big Shots, #1)\\n', \"\\nOnly If You're Lucky\\n\", '\\nMurder Road\\n', '\\nTo Cage a God (These Monstrous Gods, #1)\\n', '\\nThe City of Stardust\\n', '\\nThe Bright Spot (Sunrise Cove, #5)\\n', '\\nThe Storm We Made\\n', '\\nNearly All the Men in Lagos Are Mad\\n', '\\nShades of Mercy (Porter Beck, #2)\\n', '\\nArgylle\\n', '\\nThe Murder After the Night Before\\n', '\\nTable for Two\\n', '\\nOnly Say Good Things: Surviving Playboy and Finding Myself\\n', '\\nThis Could Be Us (Skyland, #2)\\n', '\\nAnnie Bot\\n', '\\nThe Night Island (The Lost Night Files, #2)\\n', '\\nThree-Inch Teeth (Joe Pickett #24)\\n', '\\nHappily Never After\\n', '\\nStill See You Everywhere (Frankie Elkin, #3)\\n', '\\nThe Great Divide\\n', '\\nThe Instruments of Darkness (Charlie Parker #21)\\n', '\\nLunar New Year Love Story\\n', '\\nRednecks\\n', '\\nThe Innkeeper Chronicles: Clean Sweep The Graphic Novel (Volume 1)\\n', \"\\nThe Boy Who Cried Bear (Haven's Rock, #2)\\n\", '\\nThe Ghost Orchid (Alex Delaware #39)\\n', '\\nThe End and the Death: Volume III\\n', '\\nThe Backyard Bird Chronicles\\n', '\\nPiglet\\n', '\\nDesiring Whiteness: A Racial History of Prostitution in France and Colonial Senegal, 1848-1950\\n', '\\nThe Book of Doors\\n', '\\nThe Blue Period: Black Writing in the Early Cold War\\n', '\\nThe Hunter (Cal Hooper #2)\\n', '\\nMateHub: Legend (MateHub, #1)\\n', \"\\nBad Therapy: Why the Kids Aren't Growing Up\\n\", '\\nFamily Family\\n', '\\nConversations with Orhan Pamuk\\n', '\\nThe Borrowed Hills\\n', '\\nJeg skal hente deg\\n', '\\nNightwatching\\n', '\\nWorst Wingman Ever (The Improbable Meet-Cute, #2)\\n', '\\nRed River Road\\n', \"\\nYou're Not the Problem: The Impact of Narcissism and Emotional Abuse and How to Heal\\n\", '\\nBoy of Chaotic Making (Whimbrel House, #3)\\n', \"\\nLife Is Hard, God Is Good, Let's Dance: Experiencing Real Joy in a World Gone Mad\\n\", \"\\nFoul Days (The Witch's Compendium of Monsters, #1)\\n\", '\\nThe Black Tax: 150 Years of Theft, Exploitation, and Dispossession in America\\n', '\\nThe Summer Escape: A Novel (The Sunrise Cove Series, 6)\\n', '\\nOff the Air\\n', '\\nDemon Daughter (Penric & Desdemona, #12)\\n', '\\nThe Hidden Life of Cecily Larson\\n', '\\nIf You Hate Me\\n', '\\nReign (Rock God, #2)\\n', '\\nThe Teller of Small Fortunes\\n', '\\nBoss of Her\\n', '\\nBeyond the World of Men: Women’s Fiction at the Czech Fin de Siècle\\n', '\\nPay Dirt (V.I. Warshawski #22)\\n', '\\nThe Bezzle (Martin Hench #2)\\n', '\\nWandering Stars\\n', '\\nNot Like Other Girls\\n', '\\nListen for the Lie\\n', '\\nThe Last Bloodcarver\\n', '\\nInsatiable City: Food and Race in New Orleans\\n', '\\nJust One Summer (The Kingston Family, #9.5)\\n', '\\nDrop, Cover, and Hold On (The Improbable Meet-Cute, #4)\\n', '\\nBurn Book: A Tech Love Story\\n', '\\nClaim Me Forever\\n', '\\nToxic Prey (Lucas Davenport, #34)\\n', '\\nRoad to Ruin (Magebike Courier, #1)\\n', '\\nViruses and Reproductive Injustice: Zika in Brazil\\n', '\\nEnticing Her Love (The Steeles at Silver Island Book 6)\\n', '\\nWild Love (Rose Hill, #1)\\n']\n"
     ]
    }
   ],
   "source": [
    "book_names = []\n",
    "for tag in book_tags:\n",
    "    book_names.append(tag.text)\n",
    "print(book_names)"
   ]
  },
  {
   "cell_type": "code",
   "execution_count": 6,
   "id": "595751a6-2e38-4cd3-bd4c-7dad6f3f2fdb",
   "metadata": {},
   "outputs": [
    {
     "data": {
      "text/html": [
       "<div>\n",
       "<style scoped>\n",
       "    .dataframe tbody tr th:only-of-type {\n",
       "        vertical-align: middle;\n",
       "    }\n",
       "\n",
       "    .dataframe tbody tr th {\n",
       "        vertical-align: top;\n",
       "    }\n",
       "\n",
       "    .dataframe thead th {\n",
       "        text-align: right;\n",
       "    }\n",
       "</style>\n",
       "<table border=\"1\" class=\"dataframe\">\n",
       "  <thead>\n",
       "    <tr style=\"text-align: right;\">\n",
       "      <th></th>\n",
       "      <th>Book Title</th>\n",
       "    </tr>\n",
       "  </thead>\n",
       "  <tbody>\n",
       "    <tr>\n",
       "      <th>0</th>\n",
       "      <td>\\nThe Women\\n</td>\n",
       "    </tr>\n",
       "    <tr>\n",
       "      <th>1</th>\n",
       "      <td>\\nBride\\n</td>\n",
       "    </tr>\n",
       "    <tr>\n",
       "      <th>2</th>\n",
       "      <td>\\nHouse of Flame and Shadow (Crescent City, #3)\\n</td>\n",
       "    </tr>\n",
       "    <tr>\n",
       "      <th>3</th>\n",
       "      <td>\\nEmily Wilde’s Map of the Otherlands (Emily W...</td>\n",
       "    </tr>\n",
       "    <tr>\n",
       "      <th>4</th>\n",
       "      <td>\\nFirst Lie Wins\\n</td>\n",
       "    </tr>\n",
       "    <tr>\n",
       "      <th>...</th>\n",
       "      <td>...</td>\n",
       "    </tr>\n",
       "    <tr>\n",
       "      <th>95</th>\n",
       "      <td>\\nToxic Prey (Lucas Davenport, #34)\\n</td>\n",
       "    </tr>\n",
       "    <tr>\n",
       "      <th>96</th>\n",
       "      <td>\\nRoad to Ruin (Magebike Courier, #1)\\n</td>\n",
       "    </tr>\n",
       "    <tr>\n",
       "      <th>97</th>\n",
       "      <td>\\nViruses and Reproductive Injustice: Zika in ...</td>\n",
       "    </tr>\n",
       "    <tr>\n",
       "      <th>98</th>\n",
       "      <td>\\nEnticing Her Love (The Steeles at Silver Isl...</td>\n",
       "    </tr>\n",
       "    <tr>\n",
       "      <th>99</th>\n",
       "      <td>\\nWild Love (Rose Hill, #1)\\n</td>\n",
       "    </tr>\n",
       "  </tbody>\n",
       "</table>\n",
       "<p>100 rows × 1 columns</p>\n",
       "</div>"
      ],
      "text/plain": [
       "                                           Book Title\n",
       "0                                       \\nThe Women\\n\n",
       "1                                           \\nBride\\n\n",
       "2   \\nHouse of Flame and Shadow (Crescent City, #3)\\n\n",
       "3   \\nEmily Wilde’s Map of the Otherlands (Emily W...\n",
       "4                                  \\nFirst Lie Wins\\n\n",
       "..                                                ...\n",
       "95              \\nToxic Prey (Lucas Davenport, #34)\\n\n",
       "96            \\nRoad to Ruin (Magebike Courier, #1)\\n\n",
       "97  \\nViruses and Reproductive Injustice: Zika in ...\n",
       "98  \\nEnticing Her Love (The Steeles at Silver Isl...\n",
       "99                      \\nWild Love (Rose Hill, #1)\\n\n",
       "\n",
       "[100 rows x 1 columns]"
      ]
     },
     "execution_count": 6,
     "metadata": {},
     "output_type": "execute_result"
    }
   ],
   "source": [
    "df_title = pd.DataFrame({\"Book Title\":book_names})\n",
    "df_title"
   ]
  },
  {
   "cell_type": "markdown",
   "id": "bfa75e6a-d8d0-42bc-8189-24a60e966878",
   "metadata": {},
   "source": [
    "## AUTHOR NAMES:"
   ]
  },
  {
   "cell_type": "code",
   "execution_count": 7,
   "id": "8dc5ea24-fccc-4f64-9d98-4fd5864f2340",
   "metadata": {},
   "outputs": [
    {
     "name": "stdout",
     "output_type": "stream",
     "text": [
      "['Kristin Hannah', 'Ali Hazelwood', 'Sarah J. Maas', 'Heather Fawcett', 'Ashley Elston', 'T. Kingfisher', 'Alex Michaelides', 'Danielle L. Jensen', 'Yangsze Choo', 'Holly Black', 'Seanan McGuire', 'Abby Jimenez', 'Leigh Bardugo', 'Ann Liang', 'C.S. Pacat', 'Emily Henry', 'Kaveh Akbar', 'Anna Quindlen', 'Kristen Ciccarelli', 'Rachel Hawkins', 'Elle Cosimano', 'Kate Quinn', 'Freida McFadden', 'Martha Waters', 'Ruth Ware', 'James Tynion IV', 'J.D. Robb', 'Christina Lauren', 'Tessa Bailey', 'Stacy Willingham', 'Simone St. James', 'Elizabeth        May', 'Georgia  Summers', 'Jill Shalvis', 'Vanessa  Chan', 'Damilare Kuku', 'Bruce Borgos', 'Elly Conway', 'Katy Brent', 'Amor Towles', 'Crystal Hefner', 'Kennedy Ryan', 'Sierra Greer', 'Jayne Ann Krentz', 'C.J. Box', 'Lynn Painter', 'Lisa Gardner', 'Cristina Henríquez', 'John Connolly', 'Gene Luen Yang', 'Taylor  Brown', 'ChrossxXxRodes', 'Kelley Armstrong', 'Jonathan Kellerman', 'Dan Abnett', 'Amy Tan', 'Lottie Hazell', 'Caroline Séquin', 'Gareth  Brown', 'Jesse McCarthy', 'Tana French', 'Marie Reynard', 'Abigail Shrier', 'Laurie Frankel', 'Erdağ M. Göknar', 'Scott  Preston', 'Gine Cornelia Pedersen', 'Tracy  Sierra', 'Abby Jimenez', 'Anna Downes', 'Helen Villiers', 'Charlie N. Holmberg', 'Brant Hansen', 'Genoveva Dimova', 'Andrew W. Kahrl', 'Jill Shalvis', 'Christina Estes', 'Lois McMaster Bujold', 'Ellen Baker', 'Helena Hunting', 'Cassandra Robbins', 'Julie Leong', 'Anna    Stone', 'Geoffrey Chew', 'Sara Paretsky', 'Cory Doctorow', 'Tommy Orange', 'Meredith Adamo', 'Amy Tintera', 'Vanessa Le', 'Theresa McCulla', 'Carly Phillips', 'Jasmine Guillory', 'Kara Swisher', 'A.L. Jackson', 'John Sandford', 'Hana  Lee', 'Ilana Löwy', 'Melissa Foster', 'Elsie Silver']\n"
     ]
    }
   ],
   "source": [
    "# Find all the 'a' tags with the class 'authorName'\n",
    "a_tags = doc.find_all('a', class_='authorName')\n",
    "\n",
    "# Use a list comprehension to extract the text from each 'a' tag\n",
    "# and store it in a list\n",
    "author_names = [tag.text for tag in a_tags]\n",
    "\n",
    "# Print the list of author names\n",
    "print(author_names)"
   ]
  },
  {
   "cell_type": "markdown",
   "id": "b53985ec-4564-4c0d-9d95-549a732cefda",
   "metadata": {},
   "source": [
    "## RATINGS:"
   ]
  },
  {
   "cell_type": "code",
   "execution_count": 8,
   "id": "aa6bf621-12bf-46a2-8d1a-975e85a031b7",
   "metadata": {
    "scrolled": true
   },
   "outputs": [
    {
     "data": {
      "text/plain": [
       "[' 4.67 avg rating — 304,336 ratings',\n",
       " ' 4.09 avg rating — 222,066 ratings',\n",
       " ' 4.22 avg rating — 305,331 ratings',\n",
       " ' 4.36 avg rating — 27,592 ratings',\n",
       " ' 4.10 avg rating — 227,199 ratings',\n",
       " ' 3.94 avg rating — 10,044 ratings',\n",
       " ' 3.40 avg rating — 91,995 ratings',\n",
       " ' 4.07 avg rating — 42,469 ratings',\n",
       " ' 4.04 avg rating — 6,072 ratings',\n",
       " ' 3.98 avg rating — 23,605 ratings',\n",
       " ' 4.10 avg rating — 7,049 ratings',\n",
       " ' 4.49 avg rating — 87,244 ratings',\n",
       " ' 4.03 avg rating — 14,681 ratings',\n",
       " ' 4.22 avg rating — 16,083 ratings',\n",
       " ' 4.42 avg rating — 1,403 ratings',\n",
       " ' 4.43 avg rating — 84,482 ratings',\n",
       " ' 4.24 avg rating — 8,779 ratings',\n",
       " ' 4.12 avg rating — 11,188 ratings',\n",
       " ' 4.25 avg rating — 35,976 ratings',\n",
       " ' 3.91 avg rating — 58,964 ratings',\n",
       " 'really liked it 4.00 avg rating — 16,748 ratings',\n",
       " ' 3.85 avg rating — 11,740 ratings',\n",
       " ' 3.97 avg rating — 268,698 ratings',\n",
       " ' 3.89 avg rating — 2,348 ratings',\n",
       " ' 3.91 avg rating — 827 ratings',\n",
       " ' 4.29 avg rating — 936 ratings',\n",
       " ' 4.53 avg rating — 16,294 ratings',\n",
       " ' 4.25 avg rating — 77,353 ratings',\n",
       " ' 4.01 avg rating — 39,640 ratings',\n",
       " ' 3.57 avg rating — 28,806 ratings',\n",
       " ' 3.77 avg rating — 17,487 ratings',\n",
       " ' 3.38 avg rating — 1,073 ratings',\n",
       " ' 3.40 avg rating — 4,401 ratings',\n",
       " ' 4.06 avg rating — 3,216 ratings',\n",
       " ' 3.92 avg rating — 10,017 ratings',\n",
       " ' 4.03 avg rating — 4,708 ratings',\n",
       " ' 4.33 avg rating — 88 ratings',\n",
       " ' 3.28 avg rating — 8,523 ratings',\n",
       " ' 3.90 avg rating — 5,738 ratings',\n",
       " ' 4.36 avg rating — 5,479 ratings',\n",
       " ' 3.80 avg rating — 8,491 ratings',\n",
       " ' 4.46 avg rating — 12,953 ratings',\n",
       " ' 3.83 avg rating — 12,118 ratings',\n",
       " ' 4.11 avg rating — 3,407 ratings',\n",
       " ' 4.41 avg rating — 11,943 ratings',\n",
       " ' 3.79 avg rating — 18,903 ratings',\n",
       " ' 4.06 avg rating — 8,330 ratings',\n",
       " ' 3.73 avg rating — 5,628 ratings',\n",
       " ' 4.41 avg rating — 123 ratings',\n",
       " ' 4.44 avg rating — 2,888 ratings',\n",
       " ' 4.21 avg rating — 151 ratings',\n",
       " ' 4.34 avg rating — 229 ratings',\n",
       " ' 4.19 avg rating — 3,081 ratings',\n",
       " ' 4.25 avg rating — 8,242 ratings',\n",
       " ' 4.49 avg rating — 973 ratings',\n",
       " ' 4.32 avg rating — 228 ratings',\n",
       " ' 3.57 avg rating — 7,952 ratings',\n",
       " ' 0.00 avg rating — 0 ratings',\n",
       " ' 4.04 avg rating — 11,018 ratings',\n",
       " 'really liked it 4.00 avg rating — 1 rating',\n",
       " ' 4.20 avg rating — 16,637 ratings',\n",
       " ' 4.37 avg rating — 1,072 ratings',\n",
       " ' 4.15 avg rating — 2,456 ratings',\n",
       " ' 4.03 avg rating — 8,970 ratings',\n",
       " 'really liked it 4.00 avg rating — 1 rating',\n",
       " ' 4.14 avg rating — 84 ratings',\n",
       " ' 3.83 avg rating — 18 ratings',\n",
       " ' 3.93 avg rating — 9,314 ratings',\n",
       " ' 4.01 avg rating — 60,298 ratings',\n",
       " ' 4.14 avg rating — 114 ratings',\n",
       " ' 4.59 avg rating — 64 ratings',\n",
       " ' 4.33 avg rating — 5,737 ratings',\n",
       " ' 4.57 avg rating — 327 ratings',\n",
       " ' 4.58 avg rating — 128 ratings',\n",
       " ' 0.00 avg rating — 0 ratings',\n",
       " ' 4.57 avg rating — 117 ratings',\n",
       " ' 3.15 avg rating — 956 ratings',\n",
       " ' 4.56 avg rating — 1,641 ratings',\n",
       " ' 3.90 avg rating — 3,711 ratings',\n",
       " ' 3.85 avg rating — 9,229 ratings',\n",
       " ' 4.38 avg rating — 1,191 ratings',\n",
       " ' 4.94 avg rating — 17 ratings',\n",
       " ' 4.30 avg rating — 963 ratings',\n",
       " ' 0.00 avg rating — 0 ratings',\n",
       " ' 4.32 avg rating — 460 ratings',\n",
       " ' 4.19 avg rating — 849 ratings',\n",
       " ' 3.97 avg rating — 7,343 ratings',\n",
       " ' 4.34 avg rating — 351 ratings',\n",
       " ' 4.18 avg rating — 53,996 ratings',\n",
       " ' 4.10 avg rating — 988 ratings',\n",
       " ' 0.00 avg rating — 0 ratings',\n",
       " ' 4.33 avg rating — 348 ratings',\n",
       " ' 2.98 avg rating — 33,266 ratings',\n",
       " ' 4.07 avg rating — 4,486 ratings',\n",
       " ' 4.30 avg rating — 4,131 ratings',\n",
       " ' 4.54 avg rating — 6,881 ratings',\n",
       " ' 4.70 avg rating — 81 ratings',\n",
       " ' 0.00 avg rating — 0 ratings',\n",
       " ' 4.33 avg rating — 9 ratings',\n",
       " ' 4.21 avg rating — 54,724 ratings']"
      ]
     },
     "execution_count": 8,
     "metadata": {},
     "output_type": "execute_result"
    }
   ],
   "source": [
    "r_tags = doc.find_all('span', class_='minirating')\n",
    "ratings = [tag.text for tag in r_tags]\n",
    "ratings"
   ]
  },
  {
   "cell_type": "markdown",
   "id": "8e2efe0d-583a-4431-9ace-066af30ca144",
   "metadata": {},
   "source": [
    "## FINAL RESULT FOR 1 BOOK:"
   ]
  },
  {
   "cell_type": "code",
   "execution_count": 9,
   "id": "d38c77a5-014a-4085-87e8-3cee604c06e6",
   "metadata": {},
   "outputs": [
    {
     "name": "stdout",
     "output_type": "stream",
     "text": [
      "Title: \n",
      "The Women\n",
      "\n",
      "Author: Kristin Hannah\n",
      "https://www.goodreads.com/author/show/54493.Kristin_Hannah\n",
      "Book Rating:  4.67 avg rating — 304,336 ratings\n"
     ]
    }
   ],
   "source": [
    "# Extract title, author and author's page url\n",
    "book_title = book_tags[0].text\n",
    "print(\"Title:\", book_title)\n",
    "author_name = a_tags[0].text\n",
    "print(\"Author:\", author_name)\n",
    "author_link = a_tags[0]['href']\n",
    "print(author_link)\n",
    "book_ratings = r_tags[0].text\n",
    "print(\"Book Rating:\", book_ratings)"
   ]
  },
  {
   "cell_type": "code",
   "execution_count": 10,
   "id": "30ba03b8-a138-4427-ab65-dd593118b3b2",
   "metadata": {},
   "outputs": [
    {
     "name": "stdout",
     "output_type": "stream",
     "text": [
      "                                           Book Title      Author Name  \\\n",
      "0                                       \\nThe Women\\n   Kristin Hannah   \n",
      "1                                           \\nBride\\n    Ali Hazelwood   \n",
      "2   \\nHouse of Flame and Shadow (Crescent City, #3)\\n    Sarah J. Maas   \n",
      "3   \\nEmily Wilde’s Map of the Otherlands (Emily W...  Heather Fawcett   \n",
      "4                                  \\nFirst Lie Wins\\n    Ashley Elston   \n",
      "..                                                ...              ...   \n",
      "95              \\nToxic Prey (Lucas Davenport, #34)\\n    John Sandford   \n",
      "96            \\nRoad to Ruin (Magebike Courier, #1)\\n        Hana  Lee   \n",
      "97  \\nViruses and Reproductive Injustice: Zika in ...       Ilana Löwy   \n",
      "98  \\nEnticing Her Love (The Steeles at Silver Isl...   Melissa Foster   \n",
      "99                      \\nWild Love (Rose Hill, #1)\\n     Elsie Silver   \n",
      "\n",
      "                          Book Ratings Author Profile Links  \n",
      "0    4.67 avg rating — 304,336 ratings   [[Kristin Hannah]]  \n",
      "1    4.09 avg rating — 222,066 ratings    [[Ali Hazelwood]]  \n",
      "2    4.22 avg rating — 305,331 ratings    [[Sarah J. Maas]]  \n",
      "3     4.36 avg rating — 27,592 ratings  [[Heather Fawcett]]  \n",
      "4    4.10 avg rating — 227,199 ratings    [[Ashley Elston]]  \n",
      "..                                 ...                  ...  \n",
      "95     4.54 avg rating — 6,881 ratings    [[John Sandford]]  \n",
      "96        4.70 avg rating — 81 ratings        [[Hana  Lee]]  \n",
      "97         0.00 avg rating — 0 ratings       [[Ilana Löwy]]  \n",
      "98         4.33 avg rating — 9 ratings   [[Melissa Foster]]  \n",
      "99    4.21 avg rating — 54,724 ratings     [[Elsie Silver]]  \n",
      "\n",
      "[100 rows x 4 columns]\n"
     ]
    }
   ],
   "source": [
    "df_final = pd.DataFrame({\"Book Title\": book_names, \"Author Name\": author_names, \"Book Ratings\": ratings, \"Author Profile Links\": a_tags})\n",
    "print(df_final)"
   ]
  },
  {
   "cell_type": "code",
   "execution_count": 11,
   "id": "83b4081d-f821-4868-b088-f2d037efb98e",
   "metadata": {
    "scrolled": true
   },
   "outputs": [],
   "source": [
    "df_final.to_csv('Top_100_in_2024.csv',index = None)"
   ]
  }
 ],
 "metadata": {
  "kernelspec": {
   "display_name": "Python 3 (ipykernel)",
   "language": "python",
   "name": "python3"
  },
  "language_info": {
   "codemirror_mode": {
    "name": "ipython",
    "version": 3
   },
   "file_extension": ".py",
   "mimetype": "text/x-python",
   "name": "python",
   "nbconvert_exporter": "python",
   "pygments_lexer": "ipython3",
   "version": "3.12.3"
  }
 },
 "nbformat": 4,
 "nbformat_minor": 5
}
