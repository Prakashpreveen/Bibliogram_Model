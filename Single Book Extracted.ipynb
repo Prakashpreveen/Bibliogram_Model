{
 "cells": [
  {
   "cell_type": "code",
   "execution_count": 11,
   "id": "69ea307e-a378-4b7d-bcaa-93b4f0d0a538",
   "metadata": {},
   "outputs": [],
   "source": [
    "import pandas as pd\n",
    "import requests\n",
    "from bs4 import BeautifulSoup\n",
    "import openpyxl\n",
    "import re"
   ]
  },
  {
   "cell_type": "code",
   "execution_count": 12,
   "id": "1bfedc73-ce51-4f1c-85c3-6dea7fa93eee",
   "metadata": {},
   "outputs": [],
   "source": [
    "url = \"https://www.goodreads.com/book/show/127305853-the-women\""
   ]
  },
  {
   "cell_type": "code",
   "execution_count": 13,
   "id": "1a240093-14b1-4655-8ec8-de30ddc06f54",
   "metadata": {},
   "outputs": [],
   "source": [
    "headers = {'User-Agent': 'Mozilla/5.0 (Windows NT 10.0; Win64; x64) AppleWebKit/537.36 (KHTML, like Gecko) Chrome/99.0.9999.99 Safari/537.36'}"
   ]
  },
  {
   "cell_type": "code",
   "execution_count": 14,
   "id": "f882be37-a446-4d36-b290-7a5886d628dd",
   "metadata": {},
   "outputs": [],
   "source": [
    "source = requests.get(url,headers=headers)"
   ]
  },
  {
   "cell_type": "code",
   "execution_count": 15,
   "id": "0482ca0d-356b-40f2-809f-fd5480656277",
   "metadata": {},
   "outputs": [],
   "source": [
    "source.raise_for_status()"
   ]
  },
  {
   "cell_type": "code",
   "execution_count": 16,
   "id": "9bebc643-982f-404a-82da-94cd51cc650a",
   "metadata": {},
   "outputs": [],
   "source": [
    "soup = BeautifulSoup(source.text, 'html.parser')"
   ]
  },
  {
   "cell_type": "markdown",
   "id": "39dbef08-2c3f-4777-92f0-71d32f50f3b7",
   "metadata": {},
   "source": [
    "## BOOK NAME:"
   ]
  },
  {
   "cell_type": "code",
   "execution_count": 17,
   "id": "2896e03f-25dc-4e49-91ac-6109ed43d8b0",
   "metadata": {},
   "outputs": [
    {
     "name": "stdout",
     "output_type": "stream",
     "text": [
      "Book name: The Women\n"
     ]
    }
   ],
   "source": [
    "name_element = soup.find('div',class_=\"BookPageTitleSection\").text\n",
    "if name_element:\n",
    "    name = name_element.strip()\n",
    "    print(f\"Book name: {name}\")\n",
    "else:\n",
    "    print(\"name not found on the page.\")"
   ]
  },
  {
   "cell_type": "markdown",
   "id": "d49f7785-2537-4b01-b9dc-a712d82356b9",
   "metadata": {},
   "source": [
    "## BOOK GENRE:"
   ]
  },
  {
   "cell_type": "code",
   "execution_count": 18,
   "id": "eb931bcf-cf2e-446b-8ae7-38db1dee1016",
   "metadata": {},
   "outputs": [
    {
     "name": "stdout",
     "output_type": "stream",
     "text": [
      "Book genre: ['Genres', 'Historical', 'Fiction', 'Fiction', 'Audiobook', 'Historical', 'War', 'Adult', 'Adult', 'Fiction']\n"
     ]
    }
   ],
   "source": [
    "genre_element = soup.find('ul',class_=\"CollapsableList\").text\n",
    "if genre_element:\n",
    "    genre = genre_element.strip()\n",
    "    genre_coma = re.findall('[A-Z][a-z]*',genre)\n",
    "    print(f\"Book genre: {genre_coma}\")\n",
    "else:\n",
    "    print(\"genre not found on the page.\")"
   ]
  },
  {
   "cell_type": "markdown",
   "id": "0564d150-9d3b-4c2e-9a76-60484c15e95b",
   "metadata": {},
   "source": [
    "## RATING OF THE BOOK:"
   ]
  },
  {
   "cell_type": "code",
   "execution_count": 19,
   "id": "7cf75bd5-1098-417b-9827-2fd3552f5217",
   "metadata": {},
   "outputs": [
    {
     "name": "stdout",
     "output_type": "stream",
     "text": [
      "Book raing: 4.67\n"
     ]
    }
   ],
   "source": [
    "rating_element = soup.find('div',class_=\"RatingStatistics__column\").text\n",
    "if rating_element:\n",
    "    rating = rating_element.strip()\n",
    "    print(f\"Book raing: {rating}\")\n",
    "else:\n",
    "    print(\"rating not found on the page.\")"
   ]
  },
  {
   "cell_type": "markdown",
   "id": "fd6c409f-9af2-45e3-b169-9d5408b80bfc",
   "metadata": {},
   "source": [
    "## BOOK SUMMARY:"
   ]
  },
  {
   "cell_type": "code",
   "execution_count": 20,
   "id": "9c523d27-b87a-4a77-a0ad-7f1a6f538c37",
   "metadata": {},
   "outputs": [
    {
     "name": "stdout",
     "output_type": "stream",
     "text": [
      "Book Summary: An intimate portrait of coming of age in a dangerous time and an epic tale of a nation divided.Women can be heroes. When twenty-year-old nursing student Frances “Frankie” McGrath hears these words, it is a revelation. Raised in the sun-drenched, idyllic world of Southern California and sheltered by her conservative parents, she has always prided herself on doing the right thing. But in 1965, the world is changing, and she suddenly dares to imagine a different future for herself. When her brother ships out to serve in Vietnam, she joins the Army Nurse Corps and follows his path. As green and inexperienced as the men sent to Vietnam to fight, Frankie is over- whelmed by the chaos and destruction of war. Each day is a gamble of life and death, hope and betrayal; friendships run deep and can be shattered in an instant. In war, she meets—and becomes one of—the lucky, the brave, the broken, and the lost. But war is just the beginning for Frankie and her veteran friends. The real battle lies in coming home to a changed and divided America, to angry protesters, and to a country that wants to forget Vietnam. The Women is the story of one woman gone to war, but it shines a light on all women who put themselves in harm’s way and whose sacrifice and commitment to their country has too often been forgotten. A novel about deep friendships and bold patriotism, The Women is a richly drawn story with a memorable heroine whose idealism and courage under fire will come to define an era.\n"
     ]
    }
   ],
   "source": [
    "def get_book_summary(soup):\n",
    "    # Try multiple selectors in a prioritized order (replace with appropriate selectors)\n",
    "    summary_element1 = soup.find('div', id='DetailsLayoutRightParagraph__widthConstrained')\n",
    "    summary_element2 = soup.find('span', class_='Formatted')  # Alternative selector\n",
    "\n",
    "    if summary_element1:\n",
    "        return summary_element1.text.strip()\n",
    "    elif summary_element2:\n",
    "        return summary_element2.text.strip()\n",
    "    else:\n",
    "        return \"\"\n",
    "\n",
    "# Example usage (assuming you have the soup object from your Goodreads scraping code)\n",
    "book_summary = get_book_summary(soup)\n",
    "\n",
    "if book_summary:\n",
    "    print(f\"Book Summary: {book_summary}\")\n",
    "else:\n",
    "    print(\"Book summary not found on this page.\")\n"
   ]
  },
  {
   "cell_type": "markdown",
   "id": "b54f8eb3-0cb9-45f9-b831-6027d333439c",
   "metadata": {},
   "source": [
    "## Author of the book:"
   ]
  },
  {
   "cell_type": "code",
   "execution_count": 21,
   "id": "9b8bd610-4135-47a4-b29d-03e1c9a04762",
   "metadata": {},
   "outputs": [
    {
     "name": "stdout",
     "output_type": "stream",
     "text": [
      "Author: Kristin Hannah\n"
     ]
    }
   ],
   "source": [
    "author_element = soup.find('div', class_='ContributorLinksList')\n",
    "\n",
    "if author_element:\n",
    "  author_name = author_element.text.strip()\n",
    "  print(f\"Author: {author_name}\")\n"
   ]
  },
  {
   "cell_type": "markdown",
   "id": "08087573-e622-4eac-8b7e-b5c3f65c76e4",
   "metadata": {},
   "source": [
    "## FORMAT & PUBLISHED DETAILS:"
   ]
  },
  {
   "cell_type": "code",
   "execution_count": 22,
   "id": "efe370b8-8467-4a3f-89f6-fa4cb023fd0d",
   "metadata": {},
   "outputs": [
    {
     "name": "stdout",
     "output_type": "stream",
     "text": [
      "480 pages, Hardcover , First published February 6, 2024\n"
     ]
    }
   ],
   "source": [
    "format_element = soup.find('div', class_=\"FeaturedDetails\")\n",
    "\n",
    "if format_element:\n",
    "  # Extract text content from each paragraph within the element (if any)\n",
    "  format_details = [p.text.strip() for p in format_element.find_all('p')]\n",
    "\n",
    "  # Check if there are at least two paragraphs\n",
    "  if len(format_details) >= 2:\n",
    "    print(f\"{format_details[0]} , {format_details[1]}\")  # Access first and second paragraphs\n",
    "  else:\n",
    "    print(\"Insufficient details found.\")\n",
    "else:\n",
    "  print(\"No 'FeaturedDetails' element found on this page.\")\n"
   ]
  },
  {
   "cell_type": "code",
   "execution_count": 23,
   "id": "e3068928-7054-4ca2-8ea4-343d401428fa",
   "metadata": {},
   "outputs": [
    {
     "name": "stdout",
     "output_type": "stream",
     "text": [
      "Name of the Book: The Women\n",
      "\n",
      "Author Name: Kristin Hannah\n",
      "\n",
      "Genre: ['Genres', 'Historical', 'Fiction', 'Fiction', 'Audiobook', 'Historical', 'War', 'Adult', 'Adult', 'Fiction']\n",
      "\n",
      "Rating: 4.67\n",
      "\n",
      "Format: ['480 pages, Hardcover', 'First published February 6, 2024']\n",
      "\n",
      "Book Summary:An intimate portrait of coming of age in a dangerous time and an epic tale of a nation divided.Women can be heroes. When twenty-year-old nursing student Frances “Frankie” McGrath hears these words, it is a revelation. Raised in the sun-drenched, idyllic world of Southern California and sheltered by her conservative parents, she has always prided herself on doing the right thing. But in 1965, the world is changing, and she suddenly dares to imagine a different future for herself. When her brother ships out to serve in Vietnam, she joins the Army Nurse Corps and follows his path. As green and inexperienced as the men sent to Vietnam to fight, Frankie is over- whelmed by the chaos and destruction of war. Each day is a gamble of life and death, hope and betrayal; friendships run deep and can be shattered in an instant. In war, she meets—and becomes one of—the lucky, the brave, the broken, and the lost. But war is just the beginning for Frankie and her veteran friends. The real battle lies in coming home to a changed and divided America, to angry protesters, and to a country that wants to forget Vietnam. The Women is the story of one woman gone to war, but it shines a light on all women who put themselves in harm’s way and whose sacrifice and commitment to their country has too often been forgotten. A novel about deep friendships and bold patriotism, The Women is a richly drawn story with a memorable heroine whose idealism and courage under fire will come to define an era.\n"
     ]
    }
   ],
   "source": [
    "print(f\"Name of the Book: {name}\")\n",
    "print( )\n",
    "print(f\"Author Name: {author_name}\")\n",
    "print( )\n",
    "print(f\"Genre: {genre_coma}\")\n",
    "print( )\n",
    "print(f\"Rating: {rating}\")\n",
    "print( )\n",
    "print(f\"Format: {format_details}\")\n",
    "print( )\n",
    "print(f\"Book Summary:{book_summary}\")"
   ]
  }
 ],
 "metadata": {
  "kernelspec": {
   "display_name": "Python 3 (ipykernel)",
   "language": "python",
   "name": "python3"
  },
  "language_info": {
   "codemirror_mode": {
    "name": "ipython",
    "version": 3
   },
   "file_extension": ".py",
   "mimetype": "text/x-python",
   "name": "python",
   "nbconvert_exporter": "python",
   "pygments_lexer": "ipython3",
   "version": "3.12.3"
  }
 },
 "nbformat": 4,
 "nbformat_minor": 5
}
